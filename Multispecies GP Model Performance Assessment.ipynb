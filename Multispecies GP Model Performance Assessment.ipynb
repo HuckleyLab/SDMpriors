{
 "cells": [
  {
   "cell_type": "markdown",
   "metadata": {},
   "source": [
    "# obsolete: see R file in same directory."
   ]
  },
  {
   "cell_type": "code",
   "execution_count": null,
   "metadata": {
    "collapsed": false,
    "scrolled": true
   },
   "outputs": [],
   "source": [
    "library(dismo)  #see also zoon R package?\n",
    "library(plyr)\n",
    "library(rgbif)\n",
    "library(GRaF)  #see methods paper here: http://onlinelibrary.wiley.com/doi/10.1111/2041-210X.12523/pdf\n",
    "library(pROC)\n",
    "library(ROCR)\n",
    "library(foreach)\n",
    "library(doMC)\n",
    "registerDoMC(cores=10)"
   ]
  },
  {
   "cell_type": "code",
   "execution_count": null,
   "metadata": {
    "collapsed": false
   },
   "outputs": [],
   "source": [
    "phys = read.csv(\"Sundayetal_thermallimits.csv\")\n",
    "phys= phys[!is.na(phys$tmax) & !is.na(phys$tmin),]\n",
    "phys$spec = gsub(\"_\", \" \", phys$species)\n",
    "paste(\"We've got Tmin and TMax for\", nrow(phys), \"species.\")\n",
    "grep(\"Sceloporus occidentalis\", phys$spec)"
   ]
  },
  {
   "cell_type": "code",
   "execution_count": null,
   "metadata": {
    "collapsed": false
   },
   "outputs": [],
   "source": [
    "climVars = c(\"presence\", \"bio1\", \"bio5\", \"bio6\")\n",
    "\n",
    "\n",
    "getPerformance = function(speciesIdx){\n",
    "    specName = phys$spec[speciesIdx]\n",
    "    print(specName)\n",
    "    ## get data from GBIF\n",
    "    occs = occ_data(scientificName = specName, limit=1000, minimal=TRUE)$data\n",
    "    if(is.null(occs)) {\n",
    "        return(paste(\"No occurence information for \", specName, ', SKIPPING.'))\n",
    "    }\n",
    "    occs = occs[which(!is.na(occs$\"decimalLongitude\") & !is.na(occs$\"decimalLatitude\")),]\n",
    "    \n",
    "    \n",
    "        \n",
    "    ## generate presence + absence\n",
    "    bufs = circles(occs[,c(\"decimalLongitude\", \"decimalLatitude\")], d=50000, lonlat=TRUE)\n",
    "    abs  = spsample(bufs@polygons, 100, type='random', iter=100)\n",
    "    \n",
    "    ## get climate data\n",
    "    BClim = getData(\"worldclim\", var='bio', res=2.5)\n",
    "    specExt = extent(rbind(range(occs$decimalLongitude), range(occs$decimalLatitude)))\n",
    "    BClim = crop(BClim, specExt)\n",
    "    \n",
    "    ## assign data to each presence ...\n",
    "    clim_Pres = extract(BClim, occs[,c(\"decimalLongitude\", \"decimalLatitude\")])\n",
    "    if (all(is.na(clim_Pres))) {\n",
    "        return(paste(\"No climate data for \", specName, \", SKIPPING\"))\n",
    "#         append(results, 0)\n",
    "        #return(0) \n",
    "    }\n",
    "\n",
    "    clim_Pres = data.frame(lon=occs$decimalLongitude,\n",
    "                           lat=occs$decimalLatitude,\n",
    "                           clim_Pres)\n",
    "    ## ..and absence point.\n",
    "    clim_Abs  = extract(BClim, abs)\n",
    "    clim_Abs  = data.frame(lon=abs@coords[,'x'], lat=abs@coords[,'y'], clim_Abs)\n",
    "        \n",
    "    presence = rep(1,dim(clim_Pres)[1])\n",
    "    presence_temp = data.frame(presence, clim_Pres[,3:ncol(clim_Pres)])\n",
    "    presence = rep(0, dim(clim_Abs)[1])\n",
    "    absence_temp = data.frame(presence, clim_Abs[,3:ncol(clim_Abs)])\n",
    "    \n",
    "\n",
    "    ## and combine them. \n",
    "    clim_PresAbs = rbind(presence_temp, absence_temp)\n",
    "    \n",
    "    ## extract relevant information\n",
    "    covs = clim_PresAbs[, climVars]\n",
    "    covs[,2:ncol(covs)] = covs[,2:ncol(covs)]/10 ## (BClim needs to be divided by 10)\n",
    "    covs = na.omit(covs)\n",
    "    \n",
    "    ## split data into train and test sets.\n",
    "    train_size = floor(0.75*nrow(covs))\n",
    "    trainPres = NULL\n",
    "    testPres = NULL\n",
    "    ## make sure that there are 2 classes in the test data\n",
    "    while (!(length(unique(testPres)) > 1 && length(unique(trainPres)) > 1)){\n",
    "        train_idxs = sample(seq_len(nrow(covs)), size=train_size)\n",
    "        trainData = covs[train_idxs,]\n",
    "        trainPres = trainData[,1]\n",
    "        trainCovs = trainData[,2:ncol(trainData)]\n",
    "        testData  = covs[-train_idxs,]\n",
    "        testPres = testData[,1]\n",
    "        testCovs = testData[,2:ncol(trainData)]\n",
    "    }\n",
    "    \n",
    "    ## BUILD MODEL\n",
    "    # define threshold functions\n",
    "    e.max<-function(x) ifelse(x<phys$tmax[speciesIdx]-10, 0.9, exp(-(x-phys$tmax[speciesIdx]+10)/5)) #max  \n",
    "    e.min<-function(x) ifelse(x<phys$tmin[speciesIdx]   , 0.1, 1- exp(-(x-(phys$tmax[speciesIdx])/10000) ) ) #min fix\n",
    "    e.prior = function(x) e.max(x[,2]) * e.min(x[,3])\n",
    "\n",
    "    if(any(is.na(qnorm(e.prior(trainCovs))))){\n",
    "        return(paste(\"Error in prior for species \", specName, \", SKIPPING\"))\n",
    "#         results = append(results, 0)\n",
    "        #return(0)\n",
    "    }\n",
    "        \n",
    "    eModel = graf(trainPres, trainCovs, prior = e.prior, opt.l=T)\n",
    "\n",
    "    if (!(length(unique(testPres)) > 1 && length(unique(trainPres)) > 1)){\n",
    "        return(paste(\"Bad train/test split for\", specName, \", SKIPPING\"))\n",
    "        \n",
    "        #results = append(results, 0)\n",
    "        #return(0)\n",
    "    }\n",
    "\n",
    "    ## EVALUATE MODEL\n",
    "    csimplePred = data.frame(predict(eModel, testCovs))\n",
    "    prob = csimplePred$posterior.mode\n",
    "    pred = prediction(prob, testPres)\n",
    "    auc  = performance(pred, measure='auc')\n",
    "    auc = auc@y.values[[1]]\n",
    "    if (is.null(auc)){ return(\"NULL AUC\")}\n",
    "    return(auc)\n",
    "}"
   ]
  },
  {
   "cell_type": "code",
   "execution_count": null,
   "metadata": {
    "collapsed": false
   },
   "outputs": [],
   "source": [
    "linAuc = c()\n",
    "\n",
    "results = foreach(speciesIdx=seq(1, seq(1, nrow(phys))), .errorhandling = '') %dopar% {\n",
    "    specName = phys$spec[speciesIdx]\n",
    "    print(specName)\n",
    "    ## get data from GBIF\n",
    "    occs = occ_data(scientificName = specName, limit=1000, minimal=TRUE)$data\n",
    "    if(is.null(occs)) {\n",
    "        return(paste(\"No occurence information for \", specName, ', SKIPPING.'))\n",
    "    }\n",
    "    occs = occs[which(!is.na(occs$\"decimalLongitude\") & !is.na(occs$\"decimalLatitude\")),]\n",
    "    \n",
    "    \n",
    "        \n",
    "    ## generate presence + absence\n",
    "    bufs = circles(occs[,c(\"decimalLongitude\", \"decimalLatitude\")], d=50000, lonlat=TRUE)\n",
    "    abs  = spsample(bufs@polygons, 100, type='random', iter=100)\n",
    "    \n",
    "    ## get climate data\n",
    "    BClim = getData(\"worldclim\", var='bio', res=2.5)\n",
    "    specExt = extent(rbind(range(occs$decimalLongitude), range(occs$decimalLatitude)))\n",
    "    BClim = crop(BClim, specExt)\n",
    "    \n",
    "    ## assign data to each presence ...\n",
    "    clim_Pres = extract(BClim, occs[,c(\"decimalLongitude\", \"decimalLatitude\")])\n",
    "    if (all(is.na(clim_Pres))) {\n",
    "        return(paste(\"No climate data for \", specName, \", SKIPPING\"))\n",
    "#         append(results, 0)\n",
    "        #return(0) \n",
    "    }\n",
    "\n",
    "    clim_Pres = data.frame(lon=occs$decimalLongitude,\n",
    "                           lat=occs$decimalLatitude,\n",
    "                           clim_Pres)\n",
    "    ## ..and absence point.\n",
    "    clim_Abs  = extract(BClim, abs)\n",
    "    clim_Abs  = data.frame(lon=abs@coords[,'x'], lat=abs@coords[,'y'], clim_Abs)\n",
    "        \n",
    "    presence = rep(1,dim(clim_Pres)[1])\n",
    "    presence_temp = data.frame(presence, clim_Pres[,3:ncol(clim_Pres)])\n",
    "    presence = rep(0, dim(clim_Abs)[1])\n",
    "    absence_temp = data.frame(presence, clim_Abs[,3:ncol(clim_Abs)])\n",
    "    \n",
    "\n",
    "    ## and combine them. \n",
    "    clim_PresAbs = rbind(presence_temp, absence_temp)\n",
    "    \n",
    "    ## extract relevant information\n",
    "    covs = clim_PresAbs[, climVars]\n",
    "    covs[,2:ncol(covs)] = covs[,2:ncol(covs)]/10 ## (BClim needs to be divided by 10)\n",
    "    covs = na.omit(covs)\n",
    "    \n",
    "    ## split data into train and test sets.\n",
    "    train_size = floor(0.75*nrow(covs))\n",
    "    trainPres = NULL\n",
    "    testPres = NULL\n",
    "    ## make sure that there are 2 classes in the test data\n",
    "    while (!(length(unique(testPres)) > 1 && length(unique(trainPres)) > 1)){\n",
    "        train_idxs = sample(seq_len(nrow(covs)), size=train_size)\n",
    "        trainData = covs[train_idxs,]\n",
    "        trainPres = trainData[,1]\n",
    "        trainCovs = trainData[,2:ncol(trainData)]\n",
    "        testData  = covs[-train_idxs,]\n",
    "        testPres = testData[,1]\n",
    "        testCovs = testData[,2:ncol(trainData)]\n",
    "    }\n",
    "    \n",
    "    ## BUILD MODEL\n",
    "    # define threshold functions\n",
    "    e.max<-function(x) ifelse(x<phys$tmax[speciesIdx]-10, 0.9, exp(-(x-phys$tmax[speciesIdx]+10)/5)) #max  \n",
    "    e.min<-function(x) ifelse(x<phys$tmin[speciesIdx]   , 0.1, 1- exp(-(x-(phys$tmax[speciesIdx])/10000) ) ) #min fix\n",
    "    e.prior = function(x) e.max(x[,2]) * e.min(x[,3])\n",
    "\n",
    "    if(any(is.na(qnorm(e.prior(trainCovs))))){\n",
    "        return(paste(\"Error in prior for species \", specName, \", SKIPPING\"))\n",
    "#         results = append(results, 0)\n",
    "        #return(0)\n",
    "    }\n",
    "        \n",
    "    eModel = graf(trainPres, trainCovs, prior = e.prior, opt.l=T)\n",
    "\n",
    "    if (!(length(unique(testPres)) > 1 && length(unique(trainPres)) > 1)){\n",
    "        return(paste(\"Bad train/test split for\", specName, \", SKIPPING\"))\n",
    "        \n",
    "        #results = append(results, 0)\n",
    "        #return(0)\n",
    "    }\n",
    "\n",
    "    ## EVALUATE MODEL\n",
    "    csimplePred = data.frame(predict(eModel, testCovs))\n",
    "    prob = csimplePred$posterior.mode\n",
    "    pred = prediction(prob, testPres)\n",
    "    auc  = performance(pred, measure='auc')\n",
    "    auc = auc@y.values[[1]]\n",
    "    if (is.null(auc)){ return(\"NULL AUC\")}\n",
    "    return(auc)\n",
    "}\n",
    "results"
   ]
  },
  {
   "cell_type": "code",
   "execution_count": null,
   "metadata": {
    "collapsed": false
   },
   "outputs": [],
   "source": [
    "getPerformance(67)"
   ]
  },
  {
   "cell_type": "code",
   "execution_count": null,
   "metadata": {
    "collapsed": false
   },
   "outputs": [],
   "source": [
    "for (species in range(0, nrow(phys))){\n",
    "    \n",
    "}"
   ]
  },
  {
   "cell_type": "code",
   "execution_count": null,
   "metadata": {
    "collapsed": false
   },
   "outputs": [],
   "source": [
    "\n",
    "oc = oc[which(!is.na(oc$\"decimalLongitude\") & !is.na(oc$\"decimalLatitude\")),]\n"
   ]
  },
  {
   "cell_type": "code",
   "execution_count": null,
   "metadata": {
    "collapsed": false
   },
   "outputs": [],
   "source": [
    "ext = extent(rbind(range(oc$decimalLongitude), range(oc$decimalLatitude)))\n",
    "BClim = getData(\"worldclim\", var='bio', res=2.5)\n",
    "\n",
    "BClim = crop(BClim, ext)\n"
   ]
  },
  {
   "cell_type": "code",
   "execution_count": null,
   "metadata": {
    "collapsed": false
   },
   "outputs": [],
   "source": [
    "BClim"
   ]
  },
  {
   "cell_type": "code",
   "execution_count": null,
   "metadata": {
    "collapsed": false
   },
   "outputs": [],
   "source": [
    "ext"
   ]
  },
  {
   "cell_type": "code",
   "execution_count": null,
   "metadata": {
    "collapsed": false
   },
   "outputs": [],
   "source": [
    "testPres = c(0,1,0)\n",
    "trainPres = c(1,0)\n",
    "length(unique(testPres))"
   ]
  },
  {
   "cell_type": "code",
   "execution_count": null,
   "metadata": {
    "collapsed": false
   },
   "outputs": [],
   "source": [
    "(length(unique(testPres)) > 1 && length(unique(trainPres)) > 1)"
   ]
  },
  {
   "cell_type": "code",
   "execution_count": null,
   "metadata": {
    "collapsed": false
   },
   "outputs": [],
   "source": [
    "length(unique(testPres)) > 1"
   ]
  },
  {
   "cell_type": "code",
   "execution_count": null,
   "metadata": {
    "collapsed": false
   },
   "outputs": [],
   "source": []
  },
  {
   "cell_type": "code",
   "execution_count": null,
   "metadata": {
    "collapsed": true
   },
   "outputs": [],
   "source": []
  }
 ],
 "metadata": {
  "kernelspec": {
   "display_name": "R",
   "language": "R",
   "name": "ir"
  },
  "language_info": {
   "codemirror_mode": "r",
   "file_extension": ".r",
   "mimetype": "text/x-r-source",
   "name": "R",
   "pygments_lexer": "r",
   "version": "3.3.2"
  }
 },
 "nbformat": 4,
 "nbformat_minor": 2
}
