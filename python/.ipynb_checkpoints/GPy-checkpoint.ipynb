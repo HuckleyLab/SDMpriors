{
 "cells": [
  {
   "cell_type": "code",
   "execution_count": 40,
   "metadata": {
    "collapsed": false
   },
   "outputs": [],
   "source": [
    "import GPy\n",
    "import pygbif \n",
    "import pandas as pd\n",
    "import numpy as np"
   ]
  },
  {
   "cell_type": "markdown",
   "metadata": {},
   "source": [
    "# SDM with Gaussian Processes in Python\n",
    "We're working to replicate and extend [@goldingn](http://github.com/goldingn)'s work in R. "
   ]
  },
  {
   "cell_type": "code",
   "execution_count": 7,
   "metadata": {
    "collapsed": false
   },
   "outputs": [],
   "source": [
    "species = \"Sceloporus occidentalis\"\n",
    "speciesKey = pygbif.species.name_suggest(species)[0]['key']"
   ]
  },
  {
   "cell_type": "code",
   "execution_count": 30,
   "metadata": {
    "collapsed": false
   },
   "outputs": [],
   "source": [
    "searchArgs = {\n",
    "    \"taxonKey\" : speciesKey,\n",
    "    \"limit\" : 300,\n",
    "    \"fields\" : 'minimal',\n",
    "    \"hasCoordinate\" : True\n",
    "}\n",
    "dfs = [pd.DataFrame(pygbif.occurrences.search(offset=o, **searchArgs)['results'])\n",
    "       for o in range(0, 1000, 300)]"
   ]
  },
  {
   "cell_type": "code",
   "execution_count": 31,
   "metadata": {
    "collapsed": false
   },
   "outputs": [],
   "source": [
    "data = pd.concat(dfs)"
   ]
  },
  {
   "cell_type": "code",
   "execution_count": 46,
   "metadata": {
    "collapsed": false
   },
   "outputs": [
    {
     "data": {
      "text/plain": [
       "False"
      ]
     },
     "execution_count": 46,
     "metadata": {},
     "output_type": "execute_result"
    }
   ],
   "source": [
    "np.any(pd.isnull(data['decimalLongitude'])) and pd.isnull(data['decimalLatitude'])"
   ]
  },
  {
   "cell_type": "code",
   "execution_count": 50,
   "metadata": {
    "collapsed": false
   },
   "outputs": [
    {
     "data": {
      "text/plain": [
       "(-124.197182, -115.093611, 31.536657999999999, 47.190617000000003)"
      ]
     },
     "execution_count": 50,
     "metadata": {},
     "output_type": "execute_result"
    }
   ],
   "source": [
    "minLon, maxLon = data['decimalLongitude'].min(), data['decimalLongitude'].max()\n",
    "minLat, maxLat = data['decimalLatitude'].min(), data['decimalLatitude'].max()\n",
    "extent = (minLon, maxLon, minLat, maxLat)\n",
    "extent"
   ]
  },
  {
   "cell_type": "code",
   "execution_count": null,
   "metadata": {
    "collapsed": true
   },
   "outputs": [],
   "source": []
  }
 ],
 "metadata": {
  "kernelspec": {
   "display_name": "Python 3",
   "language": "python",
   "name": "python3"
  },
  "language_info": {
   "codemirror_mode": {
    "name": "ipython",
    "version": 3
   },
   "file_extension": ".py",
   "mimetype": "text/x-python",
   "name": "python",
   "nbconvert_exporter": "python",
   "pygments_lexer": "ipython3",
   "version": "3.5.2"
  }
 },
 "nbformat": 4,
 "nbformat_minor": 2
}
